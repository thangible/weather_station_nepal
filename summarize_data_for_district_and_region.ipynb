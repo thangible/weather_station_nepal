{
 "cells": [
  {
   "cell_type": "code",
   "execution_count": 37,
   "id": "900ad054",
   "metadata": {},
   "outputs": [],
   "source": [
    "import os\n",
    "import numpy as np\n",
    "import pandas as pd\n",
    "pd.set_option(\"display.max_rows\", 5)"
   ]
  },
  {
   "cell_type": "markdown",
   "id": "d2d23d85",
   "metadata": {},
   "source": [
    "# FOR DISTRICT"
   ]
  },
  {
   "cell_type": "code",
   "execution_count": 38,
   "id": "e0677cb1",
   "metadata": {},
   "outputs": [],
   "source": [
    "dir = os.getcwd()\n",
    "#SPECS TO READ SUMMARY DATA\n",
    "summary_specs = [(0,10),(10,20),(20,30),(30,40),(40,50),(50,60),(60,70),(70,80)]\n",
    "summary_cols = [\"year\",\"mean_tmin\",\"mean_tmax\",\"mean_pre\", \"sum_pre\", \"min_tmin\", \"max_tmax\",\"std_pre\"]\n",
    "summary_path = os.path.join(dir,\"summary\")\n",
    "station_list_path = os.path.join(dir,\"station list.csv\")"
   ]
  },
  {
   "cell_type": "code",
   "execution_count": 39,
   "id": "35cad054",
   "metadata": {},
   "outputs": [],
   "source": [
    "district_format = '%10d%10.4f%10.4f%10.4f%10.2f%10.2f%10.2f'\n",
    "district_specs = [(0,10),(10,20),(20,30),(30,40),(40,50),(40,50),(50,60)]\n",
    "district_cols = [\"year\",\"mean_tmin\",\"mean_tmax\",\"mean_pre\", \"sum_pre\", \"min_tmin\", \"max_tmax\"]\n",
    "district_path = os.path.join(dir,\"district_summary\")"
   ]
  },
  {
   "cell_type": "code",
   "execution_count": 40,
   "id": "246db729",
   "metadata": {},
   "outputs": [],
   "source": [
    "#READ DATA AND THE WEADTHER STATION\n",
    "data_dict = {}\n",
    "files = os.listdir(summary_path)\n",
    "for file in files:\n",
    "    data_path = os.path.join(summary_path,file)\n",
    "    data_dict[file] =  pd.read_fwf(data_path, skiprows=1, skipfooter=0,\\\n",
    "                                   colspecs=summary_specs,names=summary_cols)"
   ]
  },
  {
   "cell_type": "code",
   "execution_count": 63,
   "id": "64beaa36",
   "metadata": {},
   "outputs": [
    {
     "data": {
      "text/html": [
       "<div>\n",
       "<style scoped>\n",
       "    .dataframe tbody tr th:only-of-type {\n",
       "        vertical-align: middle;\n",
       "    }\n",
       "\n",
       "    .dataframe tbody tr th {\n",
       "        vertical-align: top;\n",
       "    }\n",
       "\n",
       "    .dataframe thead th {\n",
       "        text-align: right;\n",
       "    }\n",
       "</style>\n",
       "<table border=\"1\" class=\"dataframe\">\n",
       "  <thead>\n",
       "    <tr style=\"text-align: right;\">\n",
       "      <th></th>\n",
       "      <th>gsid</th>\n",
       "      <th>index_no</th>\n",
       "      <th>formal_name</th>\n",
       "      <th>district</th>\n",
       "      <th>measuring_type</th>\n",
       "      <th>lon</th>\n",
       "      <th>lat</th>\n",
       "      <th>elevation</th>\n",
       "    </tr>\n",
       "  </thead>\n",
       "  <tbody>\n",
       "    <tr>\n",
       "      <th>4</th>\n",
       "      <td>298</td>\n",
       "      <td>1004</td>\n",
       "      <td>Nuwakot</td>\n",
       "      <td>Nuwakot</td>\n",
       "      <td>Climatology</td>\n",
       "      <td>85.164.638.888.889.000</td>\n",
       "      <td>27.914.974.999.999.900</td>\n",
       "      <td>966</td>\n",
       "    </tr>\n",
       "    <tr>\n",
       "      <th>42</th>\n",
       "      <td>8</td>\n",
       "      <td>0104</td>\n",
       "      <td>Dadeldhura</td>\n",
       "      <td>Dadeldhura</td>\n",
       "      <td>Synoptic</td>\n",
       "      <td>80.587.751.944.443.900</td>\n",
       "      <td>29.301.352.000.000.000</td>\n",
       "      <td>1879</td>\n",
       "    </tr>\n",
       "    <tr>\n",
       "      <th>...</th>\n",
       "      <td>...</td>\n",
       "      <td>...</td>\n",
       "      <td>...</td>\n",
       "      <td>...</td>\n",
       "      <td>...</td>\n",
       "      <td>...</td>\n",
       "      <td>...</td>\n",
       "      <td>...</td>\n",
       "    </tr>\n",
       "    <tr>\n",
       "      <th>538</th>\n",
       "      <td>277</td>\n",
       "      <td>0909</td>\n",
       "      <td>Simara Airport</td>\n",
       "      <td>Bara</td>\n",
       "      <td>Aeronautical</td>\n",
       "      <td>84.980.000.000.000.000</td>\n",
       "      <td>27.164.166.666.667.000</td>\n",
       "      <td>137</td>\n",
       "    </tr>\n",
       "    <tr>\n",
       "      <th>540</th>\n",
       "      <td>279</td>\n",
       "      <td>0911</td>\n",
       "      <td>Parwanipur</td>\n",
       "      <td>Bara</td>\n",
       "      <td>Agrometeorology</td>\n",
       "      <td>84.932.900.000.000.000</td>\n",
       "      <td>27.079.000.000.000.000</td>\n",
       "      <td>87</td>\n",
       "    </tr>\n",
       "  </tbody>\n",
       "</table>\n",
       "<p>33 rows × 8 columns</p>\n",
       "</div>"
      ],
      "text/plain": [
       "     gsid index_no     formal_name    district   measuring_type  \\\n",
       "4     298     1004         Nuwakot     Nuwakot      Climatology   \n",
       "42      8     0104      Dadeldhura  Dadeldhura         Synoptic   \n",
       "..    ...      ...             ...         ...              ...   \n",
       "538   277     0909  Simara Airport        Bara     Aeronautical   \n",
       "540   279     0911      Parwanipur        Bara  Agrometeorology   \n",
       "\n",
       "                        lon                     lat elevation  \n",
       "4    85.164.638.888.889.000  27.914.974.999.999.900       966  \n",
       "42   80.587.751.944.443.900  29.301.352.000.000.000      1879  \n",
       "..                      ...                     ...       ...  \n",
       "538  84.980.000.000.000.000  27.164.166.666.667.000       137  \n",
       "540  84.932.900.000.000.000  27.079.000.000.000.000        87  \n",
       "\n",
       "[33 rows x 8 columns]"
      ]
     },
     "execution_count": 63,
     "metadata": {},
     "output_type": "execute_result"
    }
   ],
   "source": [
    "all_stations = os.listdir(summary_path)\n",
    "#GET ALL THE STATION INFORMATION FROM LIST\n",
    "station_list = pd.read_csv(station_list_path, sep=\";\" )\n",
    "#FORMAT THE STATION LIST\n",
    "station_list['index_no'] = station_list['index_no'].map(lambda x: '%04d'%x)\n",
    "#STATION_INFO NOW CONTAINS ONLY STATIONS THAT WE HAVE DATA\n",
    "station_info = station_list[station_list.index_no.isin(all_stations)]\n",
    "#GET DISTRICT LIST:\n",
    "district_list = station_info['district'].unique()\n",
    "station_info"
   ]
  },
  {
   "cell_type": "code",
   "execution_count": 42,
   "id": "454795bb",
   "metadata": {},
   "outputs": [],
   "source": [
    "def process_data(joined_data):\n",
    "    year = []\n",
    "    mean_tmin = []\n",
    "    mean_tmax = []\n",
    "    mean_pre = []\n",
    "    sum_pre = []\n",
    "    min_tmin = []\n",
    "    max_tmax = []\n",
    "    #get year\n",
    "    all_years =  joined_data.year.unique()\n",
    "    #calculate\n",
    "    for this_year in all_years:\n",
    "        this_mean_tmin = joined_data[joined_data.year == this_year].mean_tmin.astype('float').mean()\n",
    "        this_mean_tmax = joined_data[joined_data.year == this_year].mean_tmax.astype('float').mean()\n",
    "        this_mean_pre = joined_data[joined_data.year == this_year].mean_pre.astype('float').mean()\n",
    "        this_sum_pre = joined_data[joined_data.year == this_year].sum_pre.astype('float').sum()\n",
    "        this_min_tmin = joined_data[joined_data.year == this_year].min_tmin.astype('float').min()\n",
    "        this_max_tmax = joined_data[joined_data.year == this_year].max_tmax.astype('float').max()\n",
    "        #append\n",
    "        year.append(this_year)\n",
    "        mean_tmin.append(this_mean_tmin)\n",
    "        mean_tmax.append(this_mean_tmax)\n",
    "        mean_pre.append(this_mean_pre)\n",
    "        min_tmin.append(this_min_tmin)\n",
    "        max_tmax.append(this_max_tmax)\n",
    "        sum_pre.append(this_sum_pre)\n",
    "    #summary\n",
    "    output = pd.DataFrame({'year': year,'mean_tmin': mean_tmin, 'mean_tmax': mean_tmax,\\\n",
    "                           'mean_pre': mean_pre, 'sum_pre': sum_pre, 'min_tmin':min_tmin,\\\n",
    "                           'max_tmax': max_tmax})\n",
    "    return output\n",
    "\n",
    "def write_data(data, path, table_type, fmt, cols):\n",
    "    np.savetxt(os.path.join(path, str(table_type)), data.values, fmt = fmt,\\\n",
    "           header = ','.join(cols)) "
   ]
  },
  {
   "cell_type": "code",
   "execution_count": 44,
   "id": "92382ef2",
   "metadata": {},
   "outputs": [],
   "source": [
    "def get_stats_for_district(district, data_dict = data_dict): #output is the dataframe of average temp and sum pre according to years\n",
    "    #Get local station according to districts\n",
    "    local_stations = station_info[station_info.district == district].index_no.tolist()\n",
    "    #concat data \n",
    "    joined_data = pd.concat([data_dict[i] for i in local_stations[0:]]).sort_values(by = \"year\")  \n",
    "    return process(joined_data, data_dict = data_dict)"
   ]
  },
  {
   "cell_type": "markdown",
   "id": "5535bc51",
   "metadata": {},
   "source": [
    "for district in district_list:\n",
    "    district_data = get_stats_for_district(district)\n",
    "    write_data(district_data, district_path, district, district_format, district_cols)\n"
   ]
  },
  {
   "cell_type": "markdown",
   "id": "4505ecd0",
   "metadata": {},
   "source": [
    "# FOR REGION"
   ]
  },
  {
   "cell_type": "code",
   "execution_count": 49,
   "id": "a0db7fd4",
   "metadata": {},
   "outputs": [],
   "source": [
    "district_region_path = os.path.join(dir,\"District_region.csv\")\n",
    "region_format = '%10d%10.4f%10.4f%10.4f%10.2f%10.2f%10.2f'\n",
    "region_specs = [(0,10),(10,20),(20,30),(30,40),(40,50),(40,50),(50,60)]\n",
    "region_cols = [\"year\",\"mean_tmin\",\"mean_tmax\",\"mean_pre\", \"sum_pre\", \"min_tmin\", \"max_tmax\"]\n",
    "region_path = os.path.join(dir,\"region_summary\")"
   ]
  },
  {
   "cell_type": "code",
   "execution_count": 72,
   "id": "da01daec",
   "metadata": {},
   "outputs": [],
   "source": [
    "district_region = pd.read_csv(district_region_path, sep=\";\" )\n",
    "district_region[\"Dist_EN\"] = district_region[\"Dist_EN\"].str.title()\n",
    "pd.set_option(\"display.max_rows\", 5)\n",
    "station_info = station_info.join(district_region.set_index(\"Dist_EN\"), on = \"district\")"
   ]
  },
  {
   "cell_type": "code",
   "execution_count": 73,
   "id": "38b3cefb",
   "metadata": {},
   "outputs": [],
   "source": [
    "def get_stats_for_region(region, data_dict = data_dict): #output is the dataframe of average temp and sum pre according to years\n",
    "    #Get local station according to districts\n",
    "    local_stations = station_info[station_info.Region == region].index_no.tolist()\n",
    "    #concat data \n",
    "    joined_data = pd.concat([data_dict[i] for i in local_stations[0:]]).sort_values(by = \"year\")\n",
    "    return process_data(joined_data)"
   ]
  },
  {
   "cell_type": "code",
   "execution_count": 74,
   "id": "0e6e1ae6",
   "metadata": {},
   "outputs": [
    {
     "data": {
      "text/plain": [
       "array(['Middle Hill', 'Western Hill', 'Eastern Hill', 'Eastern Mountain',\n",
       "       'Eastern Terai', 'Western Mountain', 'Western Terai',\n",
       "       'Middle Mountain', 'Middle Terai'], dtype=object)"
      ]
     },
     "execution_count": 74,
     "metadata": {},
     "output_type": "execute_result"
    }
   ],
   "source": [
    "region_list = station_info[station_info.Region.notnull()].Region.unique()\n",
    "region_list"
   ]
  },
  {
   "cell_type": "code",
   "execution_count": 75,
   "id": "9ef27e1c",
   "metadata": {
    "scrolled": true
   },
   "outputs": [
    {
     "name": "stdout",
     "output_type": "stream",
     "text": [
      "Middle Hill\n",
      "Western Hill\n",
      "Eastern Hill\n",
      "Eastern Mountain\n",
      "Eastern Terai\n",
      "Western Mountain\n",
      "Western Terai\n",
      "Middle Mountain\n",
      "Middle Terai\n"
     ]
    }
   ],
   "source": [
    "for region in region_list:\n",
    "    print(region)\n",
    "    region_data = get_stats_for_region(region)\n",
    "    write_data(region_data, region_path, region, region_format, region_cols)\n"
   ]
  },
  {
   "cell_type": "markdown",
   "id": "15c4006e",
   "metadata": {},
   "source": [
    "# FOR SUBREGION"
   ]
  },
  {
   "cell_type": "code",
   "execution_count": 76,
   "id": "ccdd9108",
   "metadata": {
    "scrolled": true
   },
   "outputs": [
    {
     "data": {
      "text/html": [
       "<div>\n",
       "<style scoped>\n",
       "    .dataframe tbody tr th:only-of-type {\n",
       "        vertical-align: middle;\n",
       "    }\n",
       "\n",
       "    .dataframe tbody tr th {\n",
       "        vertical-align: top;\n",
       "    }\n",
       "\n",
       "    .dataframe thead th {\n",
       "        text-align: right;\n",
       "    }\n",
       "</style>\n",
       "<table border=\"1\" class=\"dataframe\">\n",
       "  <thead>\n",
       "    <tr style=\"text-align: right;\">\n",
       "      <th></th>\n",
       "      <th>gsid</th>\n",
       "      <th>index_no</th>\n",
       "      <th>formal_name</th>\n",
       "      <th>district</th>\n",
       "      <th>measuring_type</th>\n",
       "      <th>lon</th>\n",
       "      <th>lat</th>\n",
       "      <th>elevation</th>\n",
       "      <th>SN</th>\n",
       "      <th>Region</th>\n",
       "      <th>Hill</th>\n",
       "      <th>Mountain</th>\n",
       "      <th>Terai</th>\n",
       "      <th>Western</th>\n",
       "      <th>Middle</th>\n",
       "      <th>Eastern</th>\n",
       "    </tr>\n",
       "  </thead>\n",
       "  <tbody>\n",
       "    <tr>\n",
       "      <th>4</th>\n",
       "      <td>298</td>\n",
       "      <td>1004</td>\n",
       "      <td>Nuwakot</td>\n",
       "      <td>Nuwakot</td>\n",
       "      <td>Climatology</td>\n",
       "      <td>85.164.638.888.889.000</td>\n",
       "      <td>27.914.974.999.999.900</td>\n",
       "      <td>966</td>\n",
       "      <td>40.0</td>\n",
       "      <td>Middle Hill</td>\n",
       "      <td>1.0</td>\n",
       "      <td>0.0</td>\n",
       "      <td>0.0</td>\n",
       "      <td>0.0</td>\n",
       "      <td>1.0</td>\n",
       "      <td>0.0</td>\n",
       "    </tr>\n",
       "    <tr>\n",
       "      <th>42</th>\n",
       "      <td>8</td>\n",
       "      <td>0104</td>\n",
       "      <td>Dadeldhura</td>\n",
       "      <td>Dadeldhura</td>\n",
       "      <td>Synoptic</td>\n",
       "      <td>80.587.751.944.443.900</td>\n",
       "      <td>29.301.352.000.000.000</td>\n",
       "      <td>1879</td>\n",
       "      <td>11.0</td>\n",
       "      <td>Western Hill</td>\n",
       "      <td>1.0</td>\n",
       "      <td>0.0</td>\n",
       "      <td>0.0</td>\n",
       "      <td>1.0</td>\n",
       "      <td>0.0</td>\n",
       "      <td>0.0</td>\n",
       "    </tr>\n",
       "    <tr>\n",
       "      <th>...</th>\n",
       "      <td>...</td>\n",
       "      <td>...</td>\n",
       "      <td>...</td>\n",
       "      <td>...</td>\n",
       "      <td>...</td>\n",
       "      <td>...</td>\n",
       "      <td>...</td>\n",
       "      <td>...</td>\n",
       "      <td>...</td>\n",
       "      <td>...</td>\n",
       "      <td>...</td>\n",
       "      <td>...</td>\n",
       "      <td>...</td>\n",
       "      <td>...</td>\n",
       "      <td>...</td>\n",
       "      <td>...</td>\n",
       "    </tr>\n",
       "    <tr>\n",
       "      <th>538</th>\n",
       "      <td>277</td>\n",
       "      <td>0909</td>\n",
       "      <td>Simara Airport</td>\n",
       "      <td>Bara</td>\n",
       "      <td>Aeronautical</td>\n",
       "      <td>84.980.000.000.000.000</td>\n",
       "      <td>27.164.166.666.667.000</td>\n",
       "      <td>137</td>\n",
       "      <td>64.0</td>\n",
       "      <td>Middle Terai</td>\n",
       "      <td>0.0</td>\n",
       "      <td>0.0</td>\n",
       "      <td>1.0</td>\n",
       "      <td>0.0</td>\n",
       "      <td>1.0</td>\n",
       "      <td>0.0</td>\n",
       "    </tr>\n",
       "    <tr>\n",
       "      <th>540</th>\n",
       "      <td>279</td>\n",
       "      <td>0911</td>\n",
       "      <td>Parwanipur</td>\n",
       "      <td>Bara</td>\n",
       "      <td>Agrometeorology</td>\n",
       "      <td>84.932.900.000.000.000</td>\n",
       "      <td>27.079.000.000.000.000</td>\n",
       "      <td>87</td>\n",
       "      <td>64.0</td>\n",
       "      <td>Middle Terai</td>\n",
       "      <td>0.0</td>\n",
       "      <td>0.0</td>\n",
       "      <td>1.0</td>\n",
       "      <td>0.0</td>\n",
       "      <td>1.0</td>\n",
       "      <td>0.0</td>\n",
       "    </tr>\n",
       "  </tbody>\n",
       "</table>\n",
       "<p>33 rows × 16 columns</p>\n",
       "</div>"
      ],
      "text/plain": [
       "     gsid index_no     formal_name    district   measuring_type  \\\n",
       "4     298     1004         Nuwakot     Nuwakot      Climatology   \n",
       "42      8     0104      Dadeldhura  Dadeldhura         Synoptic   \n",
       "..    ...      ...             ...         ...              ...   \n",
       "538   277     0909  Simara Airport        Bara     Aeronautical   \n",
       "540   279     0911      Parwanipur        Bara  Agrometeorology   \n",
       "\n",
       "                        lon                     lat elevation    SN  \\\n",
       "4    85.164.638.888.889.000  27.914.974.999.999.900       966  40.0   \n",
       "42   80.587.751.944.443.900  29.301.352.000.000.000      1879  11.0   \n",
       "..                      ...                     ...       ...   ...   \n",
       "538  84.980.000.000.000.000  27.164.166.666.667.000       137  64.0   \n",
       "540  84.932.900.000.000.000  27.079.000.000.000.000        87  64.0   \n",
       "\n",
       "           Region  Hill  Mountain  Terai  Western  Middle  Eastern  \n",
       "4     Middle Hill   1.0       0.0    0.0      0.0     1.0      0.0  \n",
       "42   Western Hill   1.0       0.0    0.0      1.0     0.0      0.0  \n",
       "..            ...   ...       ...    ...      ...     ...      ...  \n",
       "538  Middle Terai   0.0       0.0    1.0      0.0     1.0      0.0  \n",
       "540  Middle Terai   0.0       0.0    1.0      0.0     1.0      0.0  \n",
       "\n",
       "[33 rows x 16 columns]"
      ]
     },
     "execution_count": 76,
     "metadata": {},
     "output_type": "execute_result"
    }
   ],
   "source": [
    "station_info"
   ]
  },
  {
   "cell_type": "code",
   "execution_count": 77,
   "id": "33ad3bfe",
   "metadata": {},
   "outputs": [],
   "source": [
    "subregion_path = os.path.join(dir,\"subregion_summary\")"
   ]
  },
  {
   "cell_type": "code",
   "execution_count": 78,
   "id": "25725fd9",
   "metadata": {},
   "outputs": [],
   "source": [
    "\n",
    "def get_stats_for_subregion(subregion, data_dict = data_dict): #output is the dataframe of average temp and sum pre according to years\n",
    "    #Get local station according to districts\n",
    "    local_stations = station_info[station_info.loc[:,subregion] == 1].loc[:,\"index_no\"]\n",
    "    #concat data \n",
    "    joined_data = pd.concat([data_dict[i] for i in local_stations[0:]]).sort_values(by = \"year\")\n",
    "    return process_data(joined_data)"
   ]
  },
  {
   "cell_type": "code",
   "execution_count": 79,
   "id": "bc1b7d75",
   "metadata": {},
   "outputs": [
    {
     "data": {
      "text/plain": [
       "157    1303\n",
       "186    1405\n",
       "253    0303\n",
       "386    0604\n",
       "Name: index_no, dtype: object"
      ]
     },
     "execution_count": 79,
     "metadata": {},
     "output_type": "execute_result"
    }
   ],
   "source": [
    "station_info[station_info.loc[:,\"Mountain\"] == 1].loc[:,\"index_no\"]"
   ]
  },
  {
   "cell_type": "code",
   "execution_count": 80,
   "id": "ca377606",
   "metadata": {
    "scrolled": true
   },
   "outputs": [
    {
     "name": "stdout",
     "output_type": "stream",
     "text": [
      "Hill\n",
      "Mountain\n",
      "Terai\n",
      "Eastern\n",
      "Western\n",
      "Middle\n"
     ]
    }
   ],
   "source": [
    "subregions =  [\"Hill\", \"Mountain\",\"Terai\", \"Eastern\", \"Western\", \"Middle\"]\n",
    "for subregion in subregions:\n",
    "    print(subregion)\n",
    "    subregion_data = get_stats_for_subregion(subregion)\n",
    "    write_data(subregion_data, subregion_path, subregion, region_format, region_cols)"
   ]
  },
  {
   "cell_type": "code",
   "execution_count": 81,
   "id": "54368151",
   "metadata": {},
   "outputs": [],
   "source": [
    "def get_stats_for_country(data_dict = data_dict): #output is the dataframe of average temp and sum pre according to years\n",
    "    #Get local station according to districts\n",
    "    local_stations = station_info.index_no\n",
    "    #concat data \n",
    "    joined_data = pd.concat([data_dict[i] for i in local_stations[0:]]).sort_values(by = \"year\")\n",
    "    return process_data(joined_data)"
   ]
  },
  {
   "cell_type": "code",
   "execution_count": 82,
   "id": "7316ff31",
   "metadata": {},
   "outputs": [],
   "source": [
    "country_data = get_stats_for_country()\n",
    "write_data(country_data, subregion_path, \"whole_country\", region_format, region_cols)"
   ]
  }
 ],
 "metadata": {
  "kernelspec": {
   "display_name": "Python 3 (ipykernel)",
   "language": "python",
   "name": "python3"
  },
  "language_info": {
   "codemirror_mode": {
    "name": "ipython",
    "version": 3
   },
   "file_extension": ".py",
   "mimetype": "text/x-python",
   "name": "python",
   "nbconvert_exporter": "python",
   "pygments_lexer": "ipython3",
   "version": "3.9.7"
  }
 },
 "nbformat": 4,
 "nbformat_minor": 5
}
